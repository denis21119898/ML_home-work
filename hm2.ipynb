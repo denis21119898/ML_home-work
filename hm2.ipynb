{
 "cells": [
  {
   "cell_type": "code",
   "execution_count": 1,
   "metadata": {},
   "outputs": [],
   "source": [
    "import numpy as np\n",
    "import pandas as pd\n",
    "# pip install seaborn \n",
    "import seaborn as sns\n",
    "import matplotlib.pyplot as plt"
   ]
  },
  {
   "cell_type": "code",
   "execution_count": 2,
   "metadata": {},
   "outputs": [],
   "source": [
    "dtype = {'DayOfWeek': np.uint8, 'DayofMonth': np.uint8, 'Month': np.uint8 , 'Cancelled': np.uint8, \n",
    "         'Year': np.uint16, 'FlightNum': np.uint16 , 'Distance': np.uint16, \n",
    "         'UniqueCarrier': str, 'CancellationCode': str, 'Origin': str, 'Dest': str,\n",
    "         'ArrDelay': np.float16, 'DepDelay': np.float16, 'CarrierDelay': np.float16,\n",
    "         'WeatherDelay': np.float16, 'NASDelay': np.float16, 'SecurityDelay': np.float16,\n",
    "         'LateAircraftDelay': np.float16, 'DepTime': np.float16}"
   ]
  },
  {
   "cell_type": "code",
   "execution_count": 3,
   "metadata": {},
   "outputs": [
    {
     "name": "stdout",
     "output_type": "stream",
     "text": [
      "CPU times: user 1min 20s, sys: 740 ms, total: 1min 21s\n",
      "Wall time: 1min 21s\n"
     ]
    }
   ],
   "source": [
    "%%time\n",
    "# change the path if needed\n",
    "path = '/home/denis/ML jup/hm2/data/2008.csv.bz2'\n",
    "flights_df = pd.read_csv(path, usecols=dtype.keys(), dtype=dtype)"
   ]
  },
  {
   "cell_type": "code",
   "execution_count": 4,
   "metadata": {},
   "outputs": [
    {
     "name": "stdout",
     "output_type": "stream",
     "text": [
      "(7009728, 19)\n",
      "Index(['Year', 'Month', 'DayofMonth', 'DayOfWeek', 'DepTime', 'UniqueCarrier',\n",
      "       'FlightNum', 'ArrDelay', 'DepDelay', 'Origin', 'Dest', 'Distance',\n",
      "       'Cancelled', 'CancellationCode', 'CarrierDelay', 'WeatherDelay',\n",
      "       'NASDelay', 'SecurityDelay', 'LateAircraftDelay'],\n",
      "      dtype='object')\n"
     ]
    }
   ],
   "source": [
    "print(flights_df.shape)\n",
    "print(flights_df.columns)"
   ]
  },
  {
   "cell_type": "code",
   "execution_count": 6,
   "metadata": {},
   "outputs": [
    {
     "data": {
      "text/html": [
       "<div>\n",
       "<style scoped>\n",
       "    .dataframe tbody tr th:only-of-type {\n",
       "        vertical-align: middle;\n",
       "    }\n",
       "\n",
       "    .dataframe tbody tr th {\n",
       "        vertical-align: top;\n",
       "    }\n",
       "\n",
       "    .dataframe thead th {\n",
       "        text-align: right;\n",
       "    }\n",
       "</style>\n",
       "<table border=\"1\" class=\"dataframe\">\n",
       "  <thead>\n",
       "    <tr style=\"text-align: right;\">\n",
       "      <th></th>\n",
       "      <th>Year</th>\n",
       "      <th>Month</th>\n",
       "      <th>DayofMonth</th>\n",
       "      <th>DayOfWeek</th>\n",
       "      <th>DepTime</th>\n",
       "      <th>UniqueCarrier</th>\n",
       "      <th>FlightNum</th>\n",
       "      <th>ArrDelay</th>\n",
       "      <th>DepDelay</th>\n",
       "      <th>Origin</th>\n",
       "      <th>Dest</th>\n",
       "      <th>Distance</th>\n",
       "      <th>Cancelled</th>\n",
       "      <th>CancellationCode</th>\n",
       "      <th>CarrierDelay</th>\n",
       "      <th>WeatherDelay</th>\n",
       "      <th>NASDelay</th>\n",
       "      <th>SecurityDelay</th>\n",
       "      <th>LateAircraftDelay</th>\n",
       "    </tr>\n",
       "  </thead>\n",
       "  <tbody>\n",
       "    <tr>\n",
       "      <th>0</th>\n",
       "      <td>2008</td>\n",
       "      <td>1</td>\n",
       "      <td>3</td>\n",
       "      <td>4</td>\n",
       "      <td>2003.0</td>\n",
       "      <td>WN</td>\n",
       "      <td>335</td>\n",
       "      <td>-14.0</td>\n",
       "      <td>8.0</td>\n",
       "      <td>IAD</td>\n",
       "      <td>TPA</td>\n",
       "      <td>810</td>\n",
       "      <td>0</td>\n",
       "      <td>NaN</td>\n",
       "      <td>NaN</td>\n",
       "      <td>NaN</td>\n",
       "      <td>NaN</td>\n",
       "      <td>NaN</td>\n",
       "      <td>NaN</td>\n",
       "    </tr>\n",
       "    <tr>\n",
       "      <th>1</th>\n",
       "      <td>2008</td>\n",
       "      <td>1</td>\n",
       "      <td>3</td>\n",
       "      <td>4</td>\n",
       "      <td>754.0</td>\n",
       "      <td>WN</td>\n",
       "      <td>3231</td>\n",
       "      <td>2.0</td>\n",
       "      <td>19.0</td>\n",
       "      <td>IAD</td>\n",
       "      <td>TPA</td>\n",
       "      <td>810</td>\n",
       "      <td>0</td>\n",
       "      <td>NaN</td>\n",
       "      <td>NaN</td>\n",
       "      <td>NaN</td>\n",
       "      <td>NaN</td>\n",
       "      <td>NaN</td>\n",
       "      <td>NaN</td>\n",
       "    </tr>\n",
       "    <tr>\n",
       "      <th>2</th>\n",
       "      <td>2008</td>\n",
       "      <td>1</td>\n",
       "      <td>3</td>\n",
       "      <td>4</td>\n",
       "      <td>628.0</td>\n",
       "      <td>WN</td>\n",
       "      <td>448</td>\n",
       "      <td>14.0</td>\n",
       "      <td>8.0</td>\n",
       "      <td>IND</td>\n",
       "      <td>BWI</td>\n",
       "      <td>515</td>\n",
       "      <td>0</td>\n",
       "      <td>NaN</td>\n",
       "      <td>NaN</td>\n",
       "      <td>NaN</td>\n",
       "      <td>NaN</td>\n",
       "      <td>NaN</td>\n",
       "      <td>NaN</td>\n",
       "    </tr>\n",
       "    <tr>\n",
       "      <th>3</th>\n",
       "      <td>2008</td>\n",
       "      <td>1</td>\n",
       "      <td>3</td>\n",
       "      <td>4</td>\n",
       "      <td>926.0</td>\n",
       "      <td>WN</td>\n",
       "      <td>1746</td>\n",
       "      <td>-6.0</td>\n",
       "      <td>-4.0</td>\n",
       "      <td>IND</td>\n",
       "      <td>BWI</td>\n",
       "      <td>515</td>\n",
       "      <td>0</td>\n",
       "      <td>NaN</td>\n",
       "      <td>NaN</td>\n",
       "      <td>NaN</td>\n",
       "      <td>NaN</td>\n",
       "      <td>NaN</td>\n",
       "      <td>NaN</td>\n",
       "    </tr>\n",
       "    <tr>\n",
       "      <th>4</th>\n",
       "      <td>2008</td>\n",
       "      <td>1</td>\n",
       "      <td>3</td>\n",
       "      <td>4</td>\n",
       "      <td>1829.0</td>\n",
       "      <td>WN</td>\n",
       "      <td>3920</td>\n",
       "      <td>34.0</td>\n",
       "      <td>34.0</td>\n",
       "      <td>IND</td>\n",
       "      <td>BWI</td>\n",
       "      <td>515</td>\n",
       "      <td>0</td>\n",
       "      <td>NaN</td>\n",
       "      <td>2.0</td>\n",
       "      <td>0.0</td>\n",
       "      <td>0.0</td>\n",
       "      <td>0.0</td>\n",
       "      <td>32.0</td>\n",
       "    </tr>\n",
       "    <tr>\n",
       "      <th>5</th>\n",
       "      <td>2008</td>\n",
       "      <td>1</td>\n",
       "      <td>3</td>\n",
       "      <td>4</td>\n",
       "      <td>1940.0</td>\n",
       "      <td>WN</td>\n",
       "      <td>378</td>\n",
       "      <td>11.0</td>\n",
       "      <td>25.0</td>\n",
       "      <td>IND</td>\n",
       "      <td>JAX</td>\n",
       "      <td>688</td>\n",
       "      <td>0</td>\n",
       "      <td>NaN</td>\n",
       "      <td>NaN</td>\n",
       "      <td>NaN</td>\n",
       "      <td>NaN</td>\n",
       "      <td>NaN</td>\n",
       "      <td>NaN</td>\n",
       "    </tr>\n",
       "    <tr>\n",
       "      <th>6</th>\n",
       "      <td>2008</td>\n",
       "      <td>1</td>\n",
       "      <td>3</td>\n",
       "      <td>4</td>\n",
       "      <td>1937.0</td>\n",
       "      <td>WN</td>\n",
       "      <td>509</td>\n",
       "      <td>57.0</td>\n",
       "      <td>67.0</td>\n",
       "      <td>IND</td>\n",
       "      <td>LAS</td>\n",
       "      <td>1591</td>\n",
       "      <td>0</td>\n",
       "      <td>NaN</td>\n",
       "      <td>10.0</td>\n",
       "      <td>0.0</td>\n",
       "      <td>0.0</td>\n",
       "      <td>0.0</td>\n",
       "      <td>47.0</td>\n",
       "    </tr>\n",
       "    <tr>\n",
       "      <th>7</th>\n",
       "      <td>2008</td>\n",
       "      <td>1</td>\n",
       "      <td>3</td>\n",
       "      <td>4</td>\n",
       "      <td>1039.0</td>\n",
       "      <td>WN</td>\n",
       "      <td>535</td>\n",
       "      <td>-18.0</td>\n",
       "      <td>-1.0</td>\n",
       "      <td>IND</td>\n",
       "      <td>LAS</td>\n",
       "      <td>1591</td>\n",
       "      <td>0</td>\n",
       "      <td>NaN</td>\n",
       "      <td>NaN</td>\n",
       "      <td>NaN</td>\n",
       "      <td>NaN</td>\n",
       "      <td>NaN</td>\n",
       "      <td>NaN</td>\n",
       "    </tr>\n",
       "    <tr>\n",
       "      <th>8</th>\n",
       "      <td>2008</td>\n",
       "      <td>1</td>\n",
       "      <td>3</td>\n",
       "      <td>4</td>\n",
       "      <td>617.0</td>\n",
       "      <td>WN</td>\n",
       "      <td>11</td>\n",
       "      <td>2.0</td>\n",
       "      <td>2.0</td>\n",
       "      <td>IND</td>\n",
       "      <td>MCI</td>\n",
       "      <td>451</td>\n",
       "      <td>0</td>\n",
       "      <td>NaN</td>\n",
       "      <td>NaN</td>\n",
       "      <td>NaN</td>\n",
       "      <td>NaN</td>\n",
       "      <td>NaN</td>\n",
       "      <td>NaN</td>\n",
       "    </tr>\n",
       "    <tr>\n",
       "      <th>9</th>\n",
       "      <td>2008</td>\n",
       "      <td>1</td>\n",
       "      <td>3</td>\n",
       "      <td>4</td>\n",
       "      <td>1620.0</td>\n",
       "      <td>WN</td>\n",
       "      <td>810</td>\n",
       "      <td>-16.0</td>\n",
       "      <td>0.0</td>\n",
       "      <td>IND</td>\n",
       "      <td>MCI</td>\n",
       "      <td>451</td>\n",
       "      <td>0</td>\n",
       "      <td>NaN</td>\n",
       "      <td>NaN</td>\n",
       "      <td>NaN</td>\n",
       "      <td>NaN</td>\n",
       "      <td>NaN</td>\n",
       "      <td>NaN</td>\n",
       "    </tr>\n",
       "    <tr>\n",
       "      <th>10</th>\n",
       "      <td>2008</td>\n",
       "      <td>1</td>\n",
       "      <td>3</td>\n",
       "      <td>4</td>\n",
       "      <td>706.0</td>\n",
       "      <td>WN</td>\n",
       "      <td>100</td>\n",
       "      <td>1.0</td>\n",
       "      <td>6.0</td>\n",
       "      <td>IND</td>\n",
       "      <td>MCO</td>\n",
       "      <td>828</td>\n",
       "      <td>0</td>\n",
       "      <td>NaN</td>\n",
       "      <td>NaN</td>\n",
       "      <td>NaN</td>\n",
       "      <td>NaN</td>\n",
       "      <td>NaN</td>\n",
       "      <td>NaN</td>\n",
       "    </tr>\n",
       "    <tr>\n",
       "      <th>11</th>\n",
       "      <td>2008</td>\n",
       "      <td>1</td>\n",
       "      <td>3</td>\n",
       "      <td>4</td>\n",
       "      <td>1644.0</td>\n",
       "      <td>WN</td>\n",
       "      <td>1333</td>\n",
       "      <td>80.0</td>\n",
       "      <td>94.0</td>\n",
       "      <td>IND</td>\n",
       "      <td>MCO</td>\n",
       "      <td>828</td>\n",
       "      <td>0</td>\n",
       "      <td>NaN</td>\n",
       "      <td>8.0</td>\n",
       "      <td>0.0</td>\n",
       "      <td>0.0</td>\n",
       "      <td>0.0</td>\n",
       "      <td>72.0</td>\n",
       "    </tr>\n",
       "    <tr>\n",
       "      <th>12</th>\n",
       "      <td>2008</td>\n",
       "      <td>1</td>\n",
       "      <td>3</td>\n",
       "      <td>4</td>\n",
       "      <td>1426.0</td>\n",
       "      <td>WN</td>\n",
       "      <td>829</td>\n",
       "      <td>1.0</td>\n",
       "      <td>-4.0</td>\n",
       "      <td>IND</td>\n",
       "      <td>MDW</td>\n",
       "      <td>162</td>\n",
       "      <td>0</td>\n",
       "      <td>NaN</td>\n",
       "      <td>NaN</td>\n",
       "      <td>NaN</td>\n",
       "      <td>NaN</td>\n",
       "      <td>NaN</td>\n",
       "      <td>NaN</td>\n",
       "    </tr>\n",
       "    <tr>\n",
       "      <th>13</th>\n",
       "      <td>2008</td>\n",
       "      <td>1</td>\n",
       "      <td>3</td>\n",
       "      <td>4</td>\n",
       "      <td>715.0</td>\n",
       "      <td>WN</td>\n",
       "      <td>1016</td>\n",
       "      <td>10.0</td>\n",
       "      <td>0.0</td>\n",
       "      <td>IND</td>\n",
       "      <td>MDW</td>\n",
       "      <td>162</td>\n",
       "      <td>0</td>\n",
       "      <td>NaN</td>\n",
       "      <td>NaN</td>\n",
       "      <td>NaN</td>\n",
       "      <td>NaN</td>\n",
       "      <td>NaN</td>\n",
       "      <td>NaN</td>\n",
       "    </tr>\n",
       "    <tr>\n",
       "      <th>14</th>\n",
       "      <td>2008</td>\n",
       "      <td>1</td>\n",
       "      <td>3</td>\n",
       "      <td>4</td>\n",
       "      <td>1702.0</td>\n",
       "      <td>WN</td>\n",
       "      <td>1827</td>\n",
       "      <td>-4.0</td>\n",
       "      <td>2.0</td>\n",
       "      <td>IND</td>\n",
       "      <td>MDW</td>\n",
       "      <td>162</td>\n",
       "      <td>0</td>\n",
       "      <td>NaN</td>\n",
       "      <td>NaN</td>\n",
       "      <td>NaN</td>\n",
       "      <td>NaN</td>\n",
       "      <td>NaN</td>\n",
       "      <td>NaN</td>\n",
       "    </tr>\n",
       "    <tr>\n",
       "      <th>15</th>\n",
       "      <td>2008</td>\n",
       "      <td>1</td>\n",
       "      <td>3</td>\n",
       "      <td>4</td>\n",
       "      <td>1029.0</td>\n",
       "      <td>WN</td>\n",
       "      <td>2272</td>\n",
       "      <td>11.0</td>\n",
       "      <td>9.0</td>\n",
       "      <td>IND</td>\n",
       "      <td>MDW</td>\n",
       "      <td>162</td>\n",
       "      <td>0</td>\n",
       "      <td>NaN</td>\n",
       "      <td>NaN</td>\n",
       "      <td>NaN</td>\n",
       "      <td>NaN</td>\n",
       "      <td>NaN</td>\n",
       "      <td>NaN</td>\n",
       "    </tr>\n",
       "    <tr>\n",
       "      <th>16</th>\n",
       "      <td>2008</td>\n",
       "      <td>1</td>\n",
       "      <td>3</td>\n",
       "      <td>4</td>\n",
       "      <td>1452.0</td>\n",
       "      <td>WN</td>\n",
       "      <td>675</td>\n",
       "      <td>15.0</td>\n",
       "      <td>27.0</td>\n",
       "      <td>IND</td>\n",
       "      <td>PHX</td>\n",
       "      <td>1489</td>\n",
       "      <td>0</td>\n",
       "      <td>NaN</td>\n",
       "      <td>3.0</td>\n",
       "      <td>0.0</td>\n",
       "      <td>0.0</td>\n",
       "      <td>0.0</td>\n",
       "      <td>12.0</td>\n",
       "    </tr>\n",
       "    <tr>\n",
       "      <th>17</th>\n",
       "      <td>2008</td>\n",
       "      <td>1</td>\n",
       "      <td>3</td>\n",
       "      <td>4</td>\n",
       "      <td>754.0</td>\n",
       "      <td>WN</td>\n",
       "      <td>1144</td>\n",
       "      <td>-15.0</td>\n",
       "      <td>9.0</td>\n",
       "      <td>IND</td>\n",
       "      <td>PHX</td>\n",
       "      <td>1489</td>\n",
       "      <td>0</td>\n",
       "      <td>NaN</td>\n",
       "      <td>NaN</td>\n",
       "      <td>NaN</td>\n",
       "      <td>NaN</td>\n",
       "      <td>NaN</td>\n",
       "      <td>NaN</td>\n",
       "    </tr>\n",
       "    <tr>\n",
       "      <th>18</th>\n",
       "      <td>2008</td>\n",
       "      <td>1</td>\n",
       "      <td>3</td>\n",
       "      <td>4</td>\n",
       "      <td>1323.0</td>\n",
       "      <td>WN</td>\n",
       "      <td>4</td>\n",
       "      <td>16.0</td>\n",
       "      <td>28.0</td>\n",
       "      <td>IND</td>\n",
       "      <td>TPA</td>\n",
       "      <td>838</td>\n",
       "      <td>0</td>\n",
       "      <td>NaN</td>\n",
       "      <td>0.0</td>\n",
       "      <td>0.0</td>\n",
       "      <td>0.0</td>\n",
       "      <td>0.0</td>\n",
       "      <td>16.0</td>\n",
       "    </tr>\n",
       "    <tr>\n",
       "      <th>19</th>\n",
       "      <td>2008</td>\n",
       "      <td>1</td>\n",
       "      <td>3</td>\n",
       "      <td>4</td>\n",
       "      <td>1416.0</td>\n",
       "      <td>WN</td>\n",
       "      <td>54</td>\n",
       "      <td>37.0</td>\n",
       "      <td>51.0</td>\n",
       "      <td>ISP</td>\n",
       "      <td>BWI</td>\n",
       "      <td>220</td>\n",
       "      <td>0</td>\n",
       "      <td>NaN</td>\n",
       "      <td>12.0</td>\n",
       "      <td>0.0</td>\n",
       "      <td>0.0</td>\n",
       "      <td>0.0</td>\n",
       "      <td>25.0</td>\n",
       "    </tr>\n",
       "    <tr>\n",
       "      <th>20</th>\n",
       "      <td>2008</td>\n",
       "      <td>1</td>\n",
       "      <td>3</td>\n",
       "      <td>4</td>\n",
       "      <td>706.0</td>\n",
       "      <td>WN</td>\n",
       "      <td>68</td>\n",
       "      <td>-3.0</td>\n",
       "      <td>1.0</td>\n",
       "      <td>ISP</td>\n",
       "      <td>BWI</td>\n",
       "      <td>220</td>\n",
       "      <td>0</td>\n",
       "      <td>NaN</td>\n",
       "      <td>NaN</td>\n",
       "      <td>NaN</td>\n",
       "      <td>NaN</td>\n",
       "      <td>NaN</td>\n",
       "      <td>NaN</td>\n",
       "    </tr>\n",
       "    <tr>\n",
       "      <th>21</th>\n",
       "      <td>2008</td>\n",
       "      <td>1</td>\n",
       "      <td>3</td>\n",
       "      <td>4</td>\n",
       "      <td>1657.0</td>\n",
       "      <td>WN</td>\n",
       "      <td>623</td>\n",
       "      <td>19.0</td>\n",
       "      <td>32.0</td>\n",
       "      <td>ISP</td>\n",
       "      <td>BWI</td>\n",
       "      <td>220</td>\n",
       "      <td>0</td>\n",
       "      <td>NaN</td>\n",
       "      <td>7.0</td>\n",
       "      <td>0.0</td>\n",
       "      <td>0.0</td>\n",
       "      <td>0.0</td>\n",
       "      <td>12.0</td>\n",
       "    </tr>\n",
       "    <tr>\n",
       "      <th>22</th>\n",
       "      <td>2008</td>\n",
       "      <td>1</td>\n",
       "      <td>3</td>\n",
       "      <td>4</td>\n",
       "      <td>1900.0</td>\n",
       "      <td>WN</td>\n",
       "      <td>717</td>\n",
       "      <td>6.0</td>\n",
       "      <td>20.0</td>\n",
       "      <td>ISP</td>\n",
       "      <td>BWI</td>\n",
       "      <td>220</td>\n",
       "      <td>0</td>\n",
       "      <td>NaN</td>\n",
       "      <td>NaN</td>\n",
       "      <td>NaN</td>\n",
       "      <td>NaN</td>\n",
       "      <td>NaN</td>\n",
       "      <td>NaN</td>\n",
       "    </tr>\n",
       "    <tr>\n",
       "      <th>23</th>\n",
       "      <td>2008</td>\n",
       "      <td>1</td>\n",
       "      <td>3</td>\n",
       "      <td>4</td>\n",
       "      <td>1039.0</td>\n",
       "      <td>WN</td>\n",
       "      <td>1244</td>\n",
       "      <td>-7.0</td>\n",
       "      <td>9.0</td>\n",
       "      <td>ISP</td>\n",
       "      <td>BWI</td>\n",
       "      <td>220</td>\n",
       "      <td>0</td>\n",
       "      <td>NaN</td>\n",
       "      <td>NaN</td>\n",
       "      <td>NaN</td>\n",
       "      <td>NaN</td>\n",
       "      <td>NaN</td>\n",
       "      <td>NaN</td>\n",
       "    </tr>\n",
       "    <tr>\n",
       "      <th>24</th>\n",
       "      <td>2008</td>\n",
       "      <td>1</td>\n",
       "      <td>3</td>\n",
       "      <td>4</td>\n",
       "      <td>801.0</td>\n",
       "      <td>WN</td>\n",
       "      <td>2101</td>\n",
       "      <td>-8.0</td>\n",
       "      <td>1.0</td>\n",
       "      <td>ISP</td>\n",
       "      <td>BWI</td>\n",
       "      <td>220</td>\n",
       "      <td>0</td>\n",
       "      <td>NaN</td>\n",
       "      <td>NaN</td>\n",
       "      <td>NaN</td>\n",
       "      <td>NaN</td>\n",
       "      <td>NaN</td>\n",
       "      <td>NaN</td>\n",
       "    </tr>\n",
       "  </tbody>\n",
       "</table>\n",
       "</div>"
      ],
      "text/plain": [
       "    Year  Month  DayofMonth  DayOfWeek  DepTime UniqueCarrier  FlightNum  \\\n",
       "0   2008      1           3          4   2003.0            WN        335   \n",
       "1   2008      1           3          4    754.0            WN       3231   \n",
       "2   2008      1           3          4    628.0            WN        448   \n",
       "3   2008      1           3          4    926.0            WN       1746   \n",
       "4   2008      1           3          4   1829.0            WN       3920   \n",
       "5   2008      1           3          4   1940.0            WN        378   \n",
       "6   2008      1           3          4   1937.0            WN        509   \n",
       "7   2008      1           3          4   1039.0            WN        535   \n",
       "8   2008      1           3          4    617.0            WN         11   \n",
       "9   2008      1           3          4   1620.0            WN        810   \n",
       "10  2008      1           3          4    706.0            WN        100   \n",
       "11  2008      1           3          4   1644.0            WN       1333   \n",
       "12  2008      1           3          4   1426.0            WN        829   \n",
       "13  2008      1           3          4    715.0            WN       1016   \n",
       "14  2008      1           3          4   1702.0            WN       1827   \n",
       "15  2008      1           3          4   1029.0            WN       2272   \n",
       "16  2008      1           3          4   1452.0            WN        675   \n",
       "17  2008      1           3          4    754.0            WN       1144   \n",
       "18  2008      1           3          4   1323.0            WN          4   \n",
       "19  2008      1           3          4   1416.0            WN         54   \n",
       "20  2008      1           3          4    706.0            WN         68   \n",
       "21  2008      1           3          4   1657.0            WN        623   \n",
       "22  2008      1           3          4   1900.0            WN        717   \n",
       "23  2008      1           3          4   1039.0            WN       1244   \n",
       "24  2008      1           3          4    801.0            WN       2101   \n",
       "\n",
       "    ArrDelay  DepDelay Origin Dest  Distance  Cancelled CancellationCode  \\\n",
       "0      -14.0       8.0    IAD  TPA       810          0              NaN   \n",
       "1        2.0      19.0    IAD  TPA       810          0              NaN   \n",
       "2       14.0       8.0    IND  BWI       515          0              NaN   \n",
       "3       -6.0      -4.0    IND  BWI       515          0              NaN   \n",
       "4       34.0      34.0    IND  BWI       515          0              NaN   \n",
       "5       11.0      25.0    IND  JAX       688          0              NaN   \n",
       "6       57.0      67.0    IND  LAS      1591          0              NaN   \n",
       "7      -18.0      -1.0    IND  LAS      1591          0              NaN   \n",
       "8        2.0       2.0    IND  MCI       451          0              NaN   \n",
       "9      -16.0       0.0    IND  MCI       451          0              NaN   \n",
       "10       1.0       6.0    IND  MCO       828          0              NaN   \n",
       "11      80.0      94.0    IND  MCO       828          0              NaN   \n",
       "12       1.0      -4.0    IND  MDW       162          0              NaN   \n",
       "13      10.0       0.0    IND  MDW       162          0              NaN   \n",
       "14      -4.0       2.0    IND  MDW       162          0              NaN   \n",
       "15      11.0       9.0    IND  MDW       162          0              NaN   \n",
       "16      15.0      27.0    IND  PHX      1489          0              NaN   \n",
       "17     -15.0       9.0    IND  PHX      1489          0              NaN   \n",
       "18      16.0      28.0    IND  TPA       838          0              NaN   \n",
       "19      37.0      51.0    ISP  BWI       220          0              NaN   \n",
       "20      -3.0       1.0    ISP  BWI       220          0              NaN   \n",
       "21      19.0      32.0    ISP  BWI       220          0              NaN   \n",
       "22       6.0      20.0    ISP  BWI       220          0              NaN   \n",
       "23      -7.0       9.0    ISP  BWI       220          0              NaN   \n",
       "24      -8.0       1.0    ISP  BWI       220          0              NaN   \n",
       "\n",
       "    CarrierDelay  WeatherDelay  NASDelay  SecurityDelay  LateAircraftDelay  \n",
       "0            NaN           NaN       NaN            NaN                NaN  \n",
       "1            NaN           NaN       NaN            NaN                NaN  \n",
       "2            NaN           NaN       NaN            NaN                NaN  \n",
       "3            NaN           NaN       NaN            NaN                NaN  \n",
       "4            2.0           0.0       0.0            0.0               32.0  \n",
       "5            NaN           NaN       NaN            NaN                NaN  \n",
       "6           10.0           0.0       0.0            0.0               47.0  \n",
       "7            NaN           NaN       NaN            NaN                NaN  \n",
       "8            NaN           NaN       NaN            NaN                NaN  \n",
       "9            NaN           NaN       NaN            NaN                NaN  \n",
       "10           NaN           NaN       NaN            NaN                NaN  \n",
       "11           8.0           0.0       0.0            0.0               72.0  \n",
       "12           NaN           NaN       NaN            NaN                NaN  \n",
       "13           NaN           NaN       NaN            NaN                NaN  \n",
       "14           NaN           NaN       NaN            NaN                NaN  \n",
       "15           NaN           NaN       NaN            NaN                NaN  \n",
       "16           3.0           0.0       0.0            0.0               12.0  \n",
       "17           NaN           NaN       NaN            NaN                NaN  \n",
       "18           0.0           0.0       0.0            0.0               16.0  \n",
       "19          12.0           0.0       0.0            0.0               25.0  \n",
       "20           NaN           NaN       NaN            NaN                NaN  \n",
       "21           7.0           0.0       0.0            0.0               12.0  \n",
       "22           NaN           NaN       NaN            NaN                NaN  \n",
       "23           NaN           NaN       NaN            NaN                NaN  \n",
       "24           NaN           NaN       NaN            NaN                NaN  "
      ]
     },
     "execution_count": 6,
     "metadata": {},
     "output_type": "execute_result"
    }
   ],
   "source": [
    "flights_df.head(25)"
   ]
  },
  {
   "cell_type": "code",
   "execution_count": 14,
   "metadata": {},
   "outputs": [
    {
     "data": {
      "text/html": [
       "<div>\n",
       "<style scoped>\n",
       "    .dataframe tbody tr th:only-of-type {\n",
       "        vertical-align: middle;\n",
       "    }\n",
       "\n",
       "    .dataframe tbody tr th {\n",
       "        vertical-align: top;\n",
       "    }\n",
       "\n",
       "    .dataframe thead th {\n",
       "        text-align: right;\n",
       "    }\n",
       "</style>\n",
       "<table border=\"1\" class=\"dataframe\">\n",
       "  <thead>\n",
       "    <tr style=\"text-align: right;\">\n",
       "      <th></th>\n",
       "      <th>0</th>\n",
       "      <th>1</th>\n",
       "      <th>2</th>\n",
       "      <th>3</th>\n",
       "      <th>4</th>\n",
       "    </tr>\n",
       "  </thead>\n",
       "  <tbody>\n",
       "    <tr>\n",
       "      <th>Year</th>\n",
       "      <td>2008</td>\n",
       "      <td>2008</td>\n",
       "      <td>2008</td>\n",
       "      <td>2008</td>\n",
       "      <td>2008</td>\n",
       "    </tr>\n",
       "    <tr>\n",
       "      <th>Month</th>\n",
       "      <td>1</td>\n",
       "      <td>1</td>\n",
       "      <td>1</td>\n",
       "      <td>1</td>\n",
       "      <td>1</td>\n",
       "    </tr>\n",
       "    <tr>\n",
       "      <th>DayofMonth</th>\n",
       "      <td>3</td>\n",
       "      <td>3</td>\n",
       "      <td>3</td>\n",
       "      <td>3</td>\n",
       "      <td>3</td>\n",
       "    </tr>\n",
       "    <tr>\n",
       "      <th>DayOfWeek</th>\n",
       "      <td>4</td>\n",
       "      <td>4</td>\n",
       "      <td>4</td>\n",
       "      <td>4</td>\n",
       "      <td>4</td>\n",
       "    </tr>\n",
       "    <tr>\n",
       "      <th>DepTime</th>\n",
       "      <td>2003</td>\n",
       "      <td>754</td>\n",
       "      <td>628</td>\n",
       "      <td>926</td>\n",
       "      <td>1829</td>\n",
       "    </tr>\n",
       "    <tr>\n",
       "      <th>UniqueCarrier</th>\n",
       "      <td>WN</td>\n",
       "      <td>WN</td>\n",
       "      <td>WN</td>\n",
       "      <td>WN</td>\n",
       "      <td>WN</td>\n",
       "    </tr>\n",
       "    <tr>\n",
       "      <th>FlightNum</th>\n",
       "      <td>335</td>\n",
       "      <td>3231</td>\n",
       "      <td>448</td>\n",
       "      <td>1746</td>\n",
       "      <td>3920</td>\n",
       "    </tr>\n",
       "    <tr>\n",
       "      <th>ArrDelay</th>\n",
       "      <td>-14</td>\n",
       "      <td>2</td>\n",
       "      <td>14</td>\n",
       "      <td>-6</td>\n",
       "      <td>34</td>\n",
       "    </tr>\n",
       "    <tr>\n",
       "      <th>DepDelay</th>\n",
       "      <td>8</td>\n",
       "      <td>19</td>\n",
       "      <td>8</td>\n",
       "      <td>-4</td>\n",
       "      <td>34</td>\n",
       "    </tr>\n",
       "    <tr>\n",
       "      <th>Origin</th>\n",
       "      <td>IAD</td>\n",
       "      <td>IAD</td>\n",
       "      <td>IND</td>\n",
       "      <td>IND</td>\n",
       "      <td>IND</td>\n",
       "    </tr>\n",
       "    <tr>\n",
       "      <th>Dest</th>\n",
       "      <td>TPA</td>\n",
       "      <td>TPA</td>\n",
       "      <td>BWI</td>\n",
       "      <td>BWI</td>\n",
       "      <td>BWI</td>\n",
       "    </tr>\n",
       "    <tr>\n",
       "      <th>Distance</th>\n",
       "      <td>810</td>\n",
       "      <td>810</td>\n",
       "      <td>515</td>\n",
       "      <td>515</td>\n",
       "      <td>515</td>\n",
       "    </tr>\n",
       "    <tr>\n",
       "      <th>Cancelled</th>\n",
       "      <td>0</td>\n",
       "      <td>0</td>\n",
       "      <td>0</td>\n",
       "      <td>0</td>\n",
       "      <td>0</td>\n",
       "    </tr>\n",
       "    <tr>\n",
       "      <th>CancellationCode</th>\n",
       "      <td>NaN</td>\n",
       "      <td>NaN</td>\n",
       "      <td>NaN</td>\n",
       "      <td>NaN</td>\n",
       "      <td>NaN</td>\n",
       "    </tr>\n",
       "    <tr>\n",
       "      <th>CarrierDelay</th>\n",
       "      <td>NaN</td>\n",
       "      <td>NaN</td>\n",
       "      <td>NaN</td>\n",
       "      <td>NaN</td>\n",
       "      <td>2</td>\n",
       "    </tr>\n",
       "    <tr>\n",
       "      <th>WeatherDelay</th>\n",
       "      <td>NaN</td>\n",
       "      <td>NaN</td>\n",
       "      <td>NaN</td>\n",
       "      <td>NaN</td>\n",
       "      <td>0</td>\n",
       "    </tr>\n",
       "    <tr>\n",
       "      <th>NASDelay</th>\n",
       "      <td>NaN</td>\n",
       "      <td>NaN</td>\n",
       "      <td>NaN</td>\n",
       "      <td>NaN</td>\n",
       "      <td>0</td>\n",
       "    </tr>\n",
       "    <tr>\n",
       "      <th>SecurityDelay</th>\n",
       "      <td>NaN</td>\n",
       "      <td>NaN</td>\n",
       "      <td>NaN</td>\n",
       "      <td>NaN</td>\n",
       "      <td>0</td>\n",
       "    </tr>\n",
       "    <tr>\n",
       "      <th>LateAircraftDelay</th>\n",
       "      <td>NaN</td>\n",
       "      <td>NaN</td>\n",
       "      <td>NaN</td>\n",
       "      <td>NaN</td>\n",
       "      <td>32</td>\n",
       "    </tr>\n",
       "  </tbody>\n",
       "</table>\n",
       "</div>"
      ],
      "text/plain": [
       "                      0     1     2     3     4\n",
       "Year               2008  2008  2008  2008  2008\n",
       "Month                 1     1     1     1     1\n",
       "DayofMonth            3     3     3     3     3\n",
       "DayOfWeek             4     4     4     4     4\n",
       "DepTime            2003   754   628   926  1829\n",
       "UniqueCarrier        WN    WN    WN    WN    WN\n",
       "FlightNum           335  3231   448  1746  3920\n",
       "ArrDelay            -14     2    14    -6    34\n",
       "DepDelay              8    19     8    -4    34\n",
       "Origin              IAD   IAD   IND   IND   IND\n",
       "Dest                TPA   TPA   BWI   BWI   BWI\n",
       "Distance            810   810   515   515   515\n",
       "Cancelled             0     0     0     0     0\n",
       "CancellationCode    NaN   NaN   NaN   NaN   NaN\n",
       "CarrierDelay        NaN   NaN   NaN   NaN     2\n",
       "WeatherDelay        NaN   NaN   NaN   NaN     0\n",
       "NASDelay            NaN   NaN   NaN   NaN     0\n",
       "SecurityDelay       NaN   NaN   NaN   NaN     0\n",
       "LateAircraftDelay   NaN   NaN   NaN   NaN    32"
      ]
     },
     "execution_count": 14,
     "metadata": {},
     "output_type": "execute_result"
    }
   ],
   "source": [
    "flights_df.head().T"
   ]
  },
  {
   "cell_type": "code",
   "execution_count": 21,
   "metadata": {},
   "outputs": [
    {
     "data": {
      "text/plain": [
       "20"
      ]
     },
     "execution_count": 21,
     "metadata": {},
     "output_type": "execute_result"
    }
   ],
   "source": [
    "flights_df['UniqueCarrier'].nunique()"
   ]
  },
  {
   "cell_type": "code",
   "execution_count": 18,
   "metadata": {},
   "outputs": [
    {
     "name": "stdout",
     "output_type": "stream",
     "text": [
      "<class 'pandas.core.frame.DataFrame'>\n",
      "RangeIndex: 7009728 entries, 0 to 7009727\n",
      "Data columns (total 19 columns):\n",
      "Year                 uint16\n",
      "Month                uint8\n",
      "DayofMonth           uint8\n",
      "DayOfWeek            uint8\n",
      "DepTime              float16\n",
      "UniqueCarrier        object\n",
      "FlightNum            uint16\n",
      "ArrDelay             float16\n",
      "DepDelay             float16\n",
      "Origin               object\n",
      "Dest                 object\n",
      "Distance             uint16\n",
      "Cancelled            uint8\n",
      "CancellationCode     object\n",
      "CarrierDelay         float16\n",
      "WeatherDelay         float16\n",
      "NASDelay             float16\n",
      "SecurityDelay        float16\n",
      "LateAircraftDelay    float16\n",
      "dtypes: float16(8), object(4), uint16(3), uint8(4)\n",
      "memory usage: 387.7+ MB\n"
     ]
    }
   ],
   "source": [
    "flights_df.info()"
   ]
  },
  {
   "cell_type": "code",
   "execution_count": 22,
   "metadata": {},
   "outputs": [
    {
     "data": {
      "text/html": [
       "<div>\n",
       "<style scoped>\n",
       "    .dataframe tbody tr th:only-of-type {\n",
       "        vertical-align: middle;\n",
       "    }\n",
       "\n",
       "    .dataframe tbody tr th {\n",
       "        vertical-align: top;\n",
       "    }\n",
       "\n",
       "    .dataframe thead th {\n",
       "        text-align: right;\n",
       "    }\n",
       "</style>\n",
       "<table border=\"1\" class=\"dataframe\">\n",
       "  <thead>\n",
       "    <tr style=\"text-align: right;\">\n",
       "      <th></th>\n",
       "      <th>count</th>\n",
       "      <th>mean</th>\n",
       "      <th>std</th>\n",
       "      <th>min</th>\n",
       "      <th>25%</th>\n",
       "      <th>50%</th>\n",
       "      <th>75%</th>\n",
       "      <th>max</th>\n",
       "    </tr>\n",
       "  </thead>\n",
       "  <tbody>\n",
       "    <tr>\n",
       "      <th>Year</th>\n",
       "      <td>7009728.0</td>\n",
       "      <td>2008.000000</td>\n",
       "      <td>0.000000</td>\n",
       "      <td>2008.0</td>\n",
       "      <td>2008.0</td>\n",
       "      <td>2008.0</td>\n",
       "      <td>2008.0</td>\n",
       "      <td>2008.0</td>\n",
       "    </tr>\n",
       "    <tr>\n",
       "      <th>Month</th>\n",
       "      <td>7009728.0</td>\n",
       "      <td>6.375130</td>\n",
       "      <td>3.406737</td>\n",
       "      <td>1.0</td>\n",
       "      <td>3.0</td>\n",
       "      <td>6.0</td>\n",
       "      <td>9.0</td>\n",
       "      <td>12.0</td>\n",
       "    </tr>\n",
       "    <tr>\n",
       "      <th>DayofMonth</th>\n",
       "      <td>7009728.0</td>\n",
       "      <td>15.728015</td>\n",
       "      <td>8.797068</td>\n",
       "      <td>1.0</td>\n",
       "      <td>8.0</td>\n",
       "      <td>16.0</td>\n",
       "      <td>23.0</td>\n",
       "      <td>31.0</td>\n",
       "    </tr>\n",
       "    <tr>\n",
       "      <th>DayOfWeek</th>\n",
       "      <td>7009728.0</td>\n",
       "      <td>3.924182</td>\n",
       "      <td>1.988259</td>\n",
       "      <td>1.0</td>\n",
       "      <td>2.0</td>\n",
       "      <td>4.0</td>\n",
       "      <td>6.0</td>\n",
       "      <td>7.0</td>\n",
       "    </tr>\n",
       "    <tr>\n",
       "      <th>DepTime</th>\n",
       "      <td>6873482.0</td>\n",
       "      <td>NaN</td>\n",
       "      <td>NaN</td>\n",
       "      <td>1.0</td>\n",
       "      <td>928.0</td>\n",
       "      <td>1325.0</td>\n",
       "      <td>1728.0</td>\n",
       "      <td>2400.0</td>\n",
       "    </tr>\n",
       "    <tr>\n",
       "      <th>FlightNum</th>\n",
       "      <td>7009728.0</td>\n",
       "      <td>2224.200105</td>\n",
       "      <td>1961.715999</td>\n",
       "      <td>1.0</td>\n",
       "      <td>622.0</td>\n",
       "      <td>1571.0</td>\n",
       "      <td>3518.0</td>\n",
       "      <td>9743.0</td>\n",
       "    </tr>\n",
       "    <tr>\n",
       "      <th>ArrDelay</th>\n",
       "      <td>6855029.0</td>\n",
       "      <td>NaN</td>\n",
       "      <td>NaN</td>\n",
       "      <td>-519.0</td>\n",
       "      <td>-10.0</td>\n",
       "      <td>-2.0</td>\n",
       "      <td>12.0</td>\n",
       "      <td>2460.0</td>\n",
       "    </tr>\n",
       "    <tr>\n",
       "      <th>DepDelay</th>\n",
       "      <td>6873482.0</td>\n",
       "      <td>NaN</td>\n",
       "      <td>NaN</td>\n",
       "      <td>-534.0</td>\n",
       "      <td>-4.0</td>\n",
       "      <td>-1.0</td>\n",
       "      <td>8.0</td>\n",
       "      <td>2468.0</td>\n",
       "    </tr>\n",
       "    <tr>\n",
       "      <th>Distance</th>\n",
       "      <td>7009728.0</td>\n",
       "      <td>726.387029</td>\n",
       "      <td>562.101803</td>\n",
       "      <td>11.0</td>\n",
       "      <td>325.0</td>\n",
       "      <td>581.0</td>\n",
       "      <td>954.0</td>\n",
       "      <td>4962.0</td>\n",
       "    </tr>\n",
       "    <tr>\n",
       "      <th>Cancelled</th>\n",
       "      <td>7009728.0</td>\n",
       "      <td>0.019606</td>\n",
       "      <td>0.138643</td>\n",
       "      <td>0.0</td>\n",
       "      <td>0.0</td>\n",
       "      <td>0.0</td>\n",
       "      <td>0.0</td>\n",
       "      <td>1.0</td>\n",
       "    </tr>\n",
       "    <tr>\n",
       "      <th>CarrierDelay</th>\n",
       "      <td>1524735.0</td>\n",
       "      <td>NaN</td>\n",
       "      <td>NaN</td>\n",
       "      <td>0.0</td>\n",
       "      <td>0.0</td>\n",
       "      <td>0.0</td>\n",
       "      <td>16.0</td>\n",
       "      <td>2436.0</td>\n",
       "    </tr>\n",
       "    <tr>\n",
       "      <th>WeatherDelay</th>\n",
       "      <td>1524735.0</td>\n",
       "      <td>NaN</td>\n",
       "      <td>NaN</td>\n",
       "      <td>0.0</td>\n",
       "      <td>0.0</td>\n",
       "      <td>0.0</td>\n",
       "      <td>0.0</td>\n",
       "      <td>1352.0</td>\n",
       "    </tr>\n",
       "    <tr>\n",
       "      <th>NASDelay</th>\n",
       "      <td>1524735.0</td>\n",
       "      <td>NaN</td>\n",
       "      <td>NaN</td>\n",
       "      <td>0.0</td>\n",
       "      <td>0.0</td>\n",
       "      <td>6.0</td>\n",
       "      <td>21.0</td>\n",
       "      <td>1357.0</td>\n",
       "    </tr>\n",
       "    <tr>\n",
       "      <th>SecurityDelay</th>\n",
       "      <td>1524735.0</td>\n",
       "      <td>NaN</td>\n",
       "      <td>NaN</td>\n",
       "      <td>0.0</td>\n",
       "      <td>0.0</td>\n",
       "      <td>0.0</td>\n",
       "      <td>0.0</td>\n",
       "      <td>392.0</td>\n",
       "    </tr>\n",
       "    <tr>\n",
       "      <th>LateAircraftDelay</th>\n",
       "      <td>1524735.0</td>\n",
       "      <td>NaN</td>\n",
       "      <td>NaN</td>\n",
       "      <td>0.0</td>\n",
       "      <td>0.0</td>\n",
       "      <td>0.0</td>\n",
       "      <td>26.0</td>\n",
       "      <td>1316.0</td>\n",
       "    </tr>\n",
       "  </tbody>\n",
       "</table>\n",
       "</div>"
      ],
      "text/plain": [
       "                       count         mean          std     min     25%  \\\n",
       "Year               7009728.0  2008.000000     0.000000  2008.0  2008.0   \n",
       "Month              7009728.0     6.375130     3.406737     1.0     3.0   \n",
       "DayofMonth         7009728.0    15.728015     8.797068     1.0     8.0   \n",
       "DayOfWeek          7009728.0     3.924182     1.988259     1.0     2.0   \n",
       "DepTime            6873482.0          NaN          NaN     1.0   928.0   \n",
       "FlightNum          7009728.0  2224.200105  1961.715999     1.0   622.0   \n",
       "ArrDelay           6855029.0          NaN          NaN  -519.0   -10.0   \n",
       "DepDelay           6873482.0          NaN          NaN  -534.0    -4.0   \n",
       "Distance           7009728.0   726.387029   562.101803    11.0   325.0   \n",
       "Cancelled          7009728.0     0.019606     0.138643     0.0     0.0   \n",
       "CarrierDelay       1524735.0          NaN          NaN     0.0     0.0   \n",
       "WeatherDelay       1524735.0          NaN          NaN     0.0     0.0   \n",
       "NASDelay           1524735.0          NaN          NaN     0.0     0.0   \n",
       "SecurityDelay      1524735.0          NaN          NaN     0.0     0.0   \n",
       "LateAircraftDelay  1524735.0          NaN          NaN     0.0     0.0   \n",
       "\n",
       "                      50%     75%     max  \n",
       "Year               2008.0  2008.0  2008.0  \n",
       "Month                 6.0     9.0    12.0  \n",
       "DayofMonth           16.0    23.0    31.0  \n",
       "DayOfWeek             4.0     6.0     7.0  \n",
       "DepTime            1325.0  1728.0  2400.0  \n",
       "FlightNum          1571.0  3518.0  9743.0  \n",
       "ArrDelay             -2.0    12.0  2460.0  \n",
       "DepDelay             -1.0     8.0  2468.0  \n",
       "Distance            581.0   954.0  4962.0  \n",
       "Cancelled             0.0     0.0     1.0  \n",
       "CarrierDelay          0.0    16.0  2436.0  \n",
       "WeatherDelay          0.0     0.0  1352.0  \n",
       "NASDelay              6.0    21.0  1357.0  \n",
       "SecurityDelay         0.0     0.0   392.0  \n",
       "LateAircraftDelay     0.0    26.0  1316.0  "
      ]
     },
     "execution_count": 22,
     "metadata": {},
     "output_type": "execute_result"
    }
   ],
   "source": [
    "flights_df.describe().T"
   ]
  },
  {
   "cell_type": "code",
   "execution_count": 23,
   "metadata": {},
   "outputs": [
    {
     "data": {
      "text/plain": [
       "20"
      ]
     },
     "execution_count": 23,
     "metadata": {},
     "output_type": "execute_result"
    }
   ],
   "source": [
    "flights_df['UniqueCarrier'].nunique()"
   ]
  },
  {
   "cell_type": "code",
   "execution_count": 13,
   "metadata": {},
   "outputs": [
    {
     "data": {
      "image/png": "[encoded data removed]",
      "text/plain": [
       "<Figure size 432x288 with 1 Axes>"
      ]
     },
     "metadata": {},
     "output_type": "display_data"
    }
   ],
   "source": [
    "flights_df.groupby('UniqueCarrier').size().plot(kind = 'bar');"
   ]
  },
  {
   "cell_type": "code",
   "execution_count": 14,
   "metadata": {},
   "outputs": [
    {
     "data": {
      "text/plain": [
       "UniqueCarrier  FlightNum\n",
       "CO             15           1796244.0\n",
       "               14           1796244.0\n",
       "UA             52           1789722.0\n",
       "Name: Distance, dtype: float64"
      ]
     },
     "execution_count": 14,
     "metadata": {},
     "output_type": "execute_result"
    }
   ],
   "source": [
    "flights_df.groupby(['UniqueCarrier', 'FlightNum'])['Distance'].sum().sort_values(ascending = False).iloc[:3]"
   ]
  },
  {
   "cell_type": "code",
   "execution_count": 24,
   "metadata": {},
   "outputs": [
    {
     "data": {
      "text/html": [
       "<div>\n",
       "<style scoped>\n",
       "    .dataframe tbody tr th:only-of-type {\n",
       "        vertical-align: middle;\n",
       "    }\n",
       "\n",
       "    .dataframe tbody tr th {\n",
       "        vertical-align: top;\n",
       "    }\n",
       "\n",
       "    .dataframe thead tr th {\n",
       "        text-align: left;\n",
       "    }\n",
       "\n",
       "    .dataframe thead tr:last-of-type th {\n",
       "        text-align: right;\n",
       "    }\n",
       "</style>\n",
       "<table border=\"1\" class=\"dataframe\">\n",
       "  <thead>\n",
       "    <tr>\n",
       "      <th></th>\n",
       "      <th></th>\n",
       "      <th colspan=\"3\" halign=\"left\">Distance</th>\n",
       "      <th>Cancelled</th>\n",
       "    </tr>\n",
       "    <tr>\n",
       "      <th></th>\n",
       "      <th></th>\n",
       "      <th>mean</th>\n",
       "      <th>sum</th>\n",
       "      <th>count</th>\n",
       "      <th>sum</th>\n",
       "    </tr>\n",
       "    <tr>\n",
       "      <th>UniqueCarrier</th>\n",
       "      <th>FlightNum</th>\n",
       "      <th></th>\n",
       "      <th></th>\n",
       "      <th></th>\n",
       "      <th></th>\n",
       "    </tr>\n",
       "  </thead>\n",
       "  <tbody>\n",
       "    <tr>\n",
       "      <th rowspan=\"2\" valign=\"top\">CO</th>\n",
       "      <th>15</th>\n",
       "      <td>4962.000000</td>\n",
       "      <td>1796244.0</td>\n",
       "      <td>362</td>\n",
       "      <td>0</td>\n",
       "    </tr>\n",
       "    <tr>\n",
       "      <th>14</th>\n",
       "      <td>4962.000000</td>\n",
       "      <td>1796244.0</td>\n",
       "      <td>362</td>\n",
       "      <td>0</td>\n",
       "    </tr>\n",
       "    <tr>\n",
       "      <th>UA</th>\n",
       "      <th>52</th>\n",
       "      <td>2465.181818</td>\n",
       "      <td>1789722.0</td>\n",
       "      <td>726</td>\n",
       "      <td>8</td>\n",
       "    </tr>\n",
       "  </tbody>\n",
       "</table>\n",
       "</div>"
      ],
      "text/plain": [
       "                            Distance                  Cancelled\n",
       "                                mean        sum count       sum\n",
       "UniqueCarrier FlightNum                                        \n",
       "CO            15         4962.000000  1796244.0   362         0\n",
       "              14         4962.000000  1796244.0   362         0\n",
       "UA            52         2465.181818  1789722.0   726         8"
      ]
     },
     "execution_count": 24,
     "metadata": {},
     "output_type": "execute_result"
    }
   ],
   "source": [
    "flights_df.groupby(['UniqueCarrier','FlightNum'])\\\n",
    "  .agg({'Distance': [np.mean, np.sum, 'count'],\n",
    "        'Cancelled': np.sum})\\\n",
    "  .sort_values(('Distance', 'sum'), ascending=False)\\\n",
    "  .iloc[0:3]"
   ]
  },
  {
   "cell_type": "code",
   "execution_count": 25,
   "metadata": {},
   "outputs": [
    {
     "data": {
      "text/html": [
       "<div>\n",
       "<style scoped>\n",
       "    .dataframe tbody tr th:only-of-type {\n",
       "        vertical-align: middle;\n",
       "    }\n",
       "\n",
       "    .dataframe tbody tr th {\n",
       "        vertical-align: top;\n",
       "    }\n",
       "\n",
       "    .dataframe thead th {\n",
       "        text-align: right;\n",
       "    }\n",
       "</style>\n",
       "<table border=\"1\" class=\"dataframe\">\n",
       "  <thead>\n",
       "    <tr style=\"text-align: right;\">\n",
       "      <th>DayOfWeek</th>\n",
       "      <th>1</th>\n",
       "      <th>2</th>\n",
       "      <th>3</th>\n",
       "      <th>4</th>\n",
       "      <th>5</th>\n",
       "      <th>6</th>\n",
       "      <th>7</th>\n",
       "    </tr>\n",
       "    <tr>\n",
       "      <th>Month</th>\n",
       "      <th></th>\n",
       "      <th></th>\n",
       "      <th></th>\n",
       "      <th></th>\n",
       "      <th></th>\n",
       "      <th></th>\n",
       "      <th></th>\n",
       "    </tr>\n",
       "  </thead>\n",
       "  <tbody>\n",
       "    <tr>\n",
       "      <th>1</th>\n",
       "      <td>80807</td>\n",
       "      <td>97298</td>\n",
       "      <td>100080</td>\n",
       "      <td>102043</td>\n",
       "      <td>81940</td>\n",
       "      <td>67178</td>\n",
       "      <td>76419</td>\n",
       "    </tr>\n",
       "    <tr>\n",
       "      <th>2</th>\n",
       "      <td>81504</td>\n",
       "      <td>79700</td>\n",
       "      <td>80587</td>\n",
       "      <td>82158</td>\n",
       "      <td>102726</td>\n",
       "      <td>66462</td>\n",
       "      <td>76099</td>\n",
       "    </tr>\n",
       "    <tr>\n",
       "      <th>3</th>\n",
       "      <td>103210</td>\n",
       "      <td>81159</td>\n",
       "      <td>82307</td>\n",
       "      <td>82831</td>\n",
       "      <td>82936</td>\n",
       "      <td>86153</td>\n",
       "      <td>97494</td>\n",
       "    </tr>\n",
       "    <tr>\n",
       "      <th>4</th>\n",
       "      <td>82463</td>\n",
       "      <td>100785</td>\n",
       "      <td>102586</td>\n",
       "      <td>82799</td>\n",
       "      <td>82964</td>\n",
       "      <td>68304</td>\n",
       "      <td>78225</td>\n",
       "    </tr>\n",
       "    <tr>\n",
       "      <th>5</th>\n",
       "      <td>80626</td>\n",
       "      <td>79884</td>\n",
       "      <td>81264</td>\n",
       "      <td>102572</td>\n",
       "      <td>102878</td>\n",
       "      <td>84493</td>\n",
       "      <td>74576</td>\n",
       "    </tr>\n",
       "    <tr>\n",
       "      <th>6</th>\n",
       "      <td>104168</td>\n",
       "      <td>82160</td>\n",
       "      <td>82902</td>\n",
       "      <td>83617</td>\n",
       "      <td>83930</td>\n",
       "      <td>72322</td>\n",
       "      <td>99566</td>\n",
       "    </tr>\n",
       "    <tr>\n",
       "      <th>7</th>\n",
       "      <td>84095</td>\n",
       "      <td>103429</td>\n",
       "      <td>103315</td>\n",
       "      <td>105035</td>\n",
       "      <td>79349</td>\n",
       "      <td>72219</td>\n",
       "      <td>80489</td>\n",
       "    </tr>\n",
       "    <tr>\n",
       "      <th>8</th>\n",
       "      <td>82983</td>\n",
       "      <td>80895</td>\n",
       "      <td>81773</td>\n",
       "      <td>82625</td>\n",
       "      <td>103878</td>\n",
       "      <td>86155</td>\n",
       "      <td>93970</td>\n",
       "    </tr>\n",
       "    <tr>\n",
       "      <th>9</th>\n",
       "      <td>94300</td>\n",
       "      <td>91533</td>\n",
       "      <td>74057</td>\n",
       "      <td>75589</td>\n",
       "      <td>75881</td>\n",
       "      <td>58343</td>\n",
       "      <td>71205</td>\n",
       "    </tr>\n",
       "    <tr>\n",
       "      <th>10</th>\n",
       "      <td>75131</td>\n",
       "      <td>72195</td>\n",
       "      <td>91900</td>\n",
       "      <td>94123</td>\n",
       "      <td>93894</td>\n",
       "      <td>58168</td>\n",
       "      <td>70794</td>\n",
       "    </tr>\n",
       "    <tr>\n",
       "      <th>11</th>\n",
       "      <td>74214</td>\n",
       "      <td>72443</td>\n",
       "      <td>73653</td>\n",
       "      <td>68071</td>\n",
       "      <td>70484</td>\n",
       "      <td>76031</td>\n",
       "      <td>88376</td>\n",
       "    </tr>\n",
       "    <tr>\n",
       "      <th>12</th>\n",
       "      <td>92700</td>\n",
       "      <td>90568</td>\n",
       "      <td>85241</td>\n",
       "      <td>70761</td>\n",
       "      <td>74306</td>\n",
       "      <td>61708</td>\n",
       "      <td>69674</td>\n",
       "    </tr>\n",
       "  </tbody>\n",
       "</table>\n",
       "</div>"
      ],
      "text/plain": [
       "DayOfWeek       1       2       3       4       5      6      7\n",
       "Month                                                          \n",
       "1           80807   97298  100080  102043   81940  67178  76419\n",
       "2           81504   79700   80587   82158  102726  66462  76099\n",
       "3          103210   81159   82307   82831   82936  86153  97494\n",
       "4           82463  100785  102586   82799   82964  68304  78225\n",
       "5           80626   79884   81264  102572  102878  84493  74576\n",
       "6          104168   82160   82902   83617   83930  72322  99566\n",
       "7           84095  103429  103315  105035   79349  72219  80489\n",
       "8           82983   80895   81773   82625  103878  86155  93970\n",
       "9           94300   91533   74057   75589   75881  58343  71205\n",
       "10          75131   72195   91900   94123   93894  58168  70794\n",
       "11          74214   72443   73653   68071   70484  76031  88376\n",
       "12          92700   90568   85241   70761   74306  61708  69674"
      ]
     },
     "execution_count": 25,
     "metadata": {},
     "output_type": "execute_result"
    }
   ],
   "source": [
    "pd.crosstab(flights_df.Month, flights_df.DayOfWeek)"
   ]
  },
  {
   "cell_type": "code",
   "execution_count": 26,
   "metadata": {},
   "outputs": [
    {
     "data": {
      "image/png": "[encoded data removed]",
      "text/plain": [
       "<Figure size 432x288 with 1 Axes>"
      ]
     },
     "metadata": {
      "needs_background": "light"
     },
     "output_type": "display_data"
    }
   ],
   "source": [
    "plt.imshow(pd.crosstab(flights_df.Month, flights_df.DayOfWeek),\n",
    "           cmap='seismic', interpolation='none');"
   ]
  },
  {
   "cell_type": "code",
   "execution_count": 27,
   "metadata": {},
   "outputs": [
    {
     "data": {
      "image/png": "[encoded data removed]",
      "text/plain": [
       "<Figure size 432x288 with 1 Axes>"
      ]
     },
     "metadata": {
      "needs_background": "light"
     },
     "output_type": "display_data"
    }
   ],
   "source": [
    "flights_df.hist('Distance', bins = 20);"
   ]
  },
  {
   "cell_type": "code",
   "execution_count": 6,
   "metadata": {},
   "outputs": [],
   "source": [
    "flights_df['Date'] = pd.to_datetime(flights_df.rename(columns={'DayofMonth': 'Day'})[['Year', 'Month', 'Day']])"
   ]
  },
  {
   "cell_type": "code",
   "execution_count": 7,
   "metadata": {},
   "outputs": [],
   "source": [
    "num_flights_by_date = flights_df.groupby('Date').size()"
   ]
  },
  {
   "cell_type": "code",
   "execution_count": 8,
   "metadata": {},
   "outputs": [
    {
     "data": {
      "image/png": "[encoded data removed]",
      "text/plain": [
       "<Figure size 432x288 with 1 Axes>"
      ]
     },
     "metadata": {
      "needs_background": "light"
     },
     "output_type": "display_data"
    }
   ],
   "source": [
    "num_flights_by_date.plot();"
   ]
  },
  {
   "cell_type": "code",
   "execution_count": 9,
   "metadata": {},
   "outputs": [
    {
     "data": {
      "image/png": "[encoded data removed]",
      "text/plain": [
       "<Figure size 432x288 with 1 Axes>"
      ]
     },
     "metadata": {
      "needs_background": "light"
     },
     "output_type": "display_data"
    }
   ],
   "source": [
    "num_flights_by_date.rolling(window=7).mean().plot();"
   ]
  },
  {
   "cell_type": "markdown",
   "metadata": {},
   "source": [
    "### 1. Find top-10 carriers in terms of the number of completed flights (UniqueCarrier column)?\n",
    "\n",
    "#### Which of the listed below is not in your top-10 list?"
   ]
  },
  {
   "cell_type": "code",
   "execution_count": 31,
   "metadata": {},
   "outputs": [
    {
     "data": {
      "text/plain": [
       "WN    0.171441\n",
       "AA    0.086292\n",
       "OO    0.080910\n",
       "MQ    0.070002\n",
       "US    0.064709\n",
       "DL    0.064472\n",
       "UA    0.064127\n",
       "XE    0.053427\n",
       "NW    0.049596\n",
       "CO    0.042577\n",
       "Name: UniqueCarrier, dtype: float64"
      ]
     },
     "execution_count": 31,
     "metadata": {},
     "output_type": "execute_result"
    }
   ],
   "source": [
    "flights_df['UniqueCarrier'].value_counts(normalize = True).head(10)"
   ]
  },
  {
   "cell_type": "markdown",
   "metadata": {},
   "source": [
    "#### Ответ: EV"
   ]
  },
  {
   "cell_type": "markdown",
   "metadata": {},
   "source": [
    "### 2. Plot distributions of flight cancellation reasons (CancellationCode).\n",
    "\n",
    "#### What is the most frequent reason for flight cancellation? (Use this link to translate codes into reasons)\n",
    "\n"
   ]
  },
  {
   "cell_type": "code",
   "execution_count": 32,
   "metadata": {},
   "outputs": [
    {
     "data": {
      "image/png": "[encoded data removed]",
      "text/plain": [
       "<Figure size 432x288 with 1 Axes>"
      ]
     },
     "metadata": {
      "needs_background": "light"
     },
     "output_type": "display_data"
    }
   ],
   "source": [
    "sns.countplot(flights_df['CancellationCode']);"
   ]
  },
  {
   "cell_type": "code",
   "execution_count": 33,
   "metadata": {},
   "outputs": [
    {
     "data": {
      "text/plain": [
       "B    0.3995\n",
       "A    0.3953\n",
       "C    0.2051\n",
       "D    0.0001\n",
       "Name: CancellationCode, dtype: float64"
      ]
     },
     "execution_count": 33,
     "metadata": {},
     "output_type": "execute_result"
    }
   ],
   "source": [
    "flights_df['CancellationCode'].value_counts(normalize = True).round(4)"
   ]
  },
  {
   "cell_type": "markdown",
   "metadata": {},
   "source": [
    "#### Ответ: B - Weather"
   ]
  },
  {
   "cell_type": "code",
   "execution_count": 64,
   "metadata": {},
   "outputs": [
    {
     "data": {
      "text/plain": [
       "Origin  Dest\n",
       "SFO     LAX     13788\n",
       "LAX     SFO     13390\n",
       "OGG     HNL     12383\n",
       "LGA     BOS     12035\n",
       "BOS     LGA     12029\n",
       "Name: Dest, dtype: int64"
      ]
     },
     "execution_count": 64,
     "metadata": {},
     "output_type": "execute_result"
    }
   ],
   "source": [
    "flights_df.groupby(['Origin'])['Dest'].value_counts(normalize = False).sort_values(ascending= False).head()"
   ]
  },
  {
   "cell_type": "markdown",
   "metadata": {},
   "source": [
    "### ОТВЕТ: San-Francisco – Los-Angeles"
   ]
  },
  {
   "cell_type": "markdown",
   "metadata": {},
   "source": [
    "### 4. Find top-5 delayed routes (count how many times they were delayed on departure). From all flights on these 5 routes, count all flights with weather conditions contributing to a delay."
   ]
  },
  {
   "cell_type": "code",
   "execution_count": 8,
   "metadata": {},
   "outputs": [],
   "source": [
    "flights_df['WeatherDelaynon0'] = flights_df['WeatherDelay'] > 0"
   ]
  },
  {
   "cell_type": "code",
   "execution_count": 12,
   "metadata": {},
   "outputs": [
    {
     "data": {
      "text/plain": [
       "539    201\n",
       "449    100\n",
       "648     99\n",
       "549     88\n",
       "653     87\n",
       "Name: FlightNum, dtype: int64"
      ]
     },
     "execution_count": 12,
     "metadata": {},
     "output_type": "execute_result"
    }
   ],
   "source": [
    "flights_df[(flights_df['DepDelay'] > 0) & (flights_df['WeatherDelaynon0'] > 0)]['FlightNum'].value_counts().head()\n"
   ]
  },
  {
   "cell_type": "markdown",
   "metadata": {},
   "source": [
    "### Ответ 668"
   ]
  },
  {
   "cell_type": "markdown",
   "metadata": {},
   "source": [
    "### 5. Examine the hourly distribution of departure times. For that, create a new series from DepTime, removing missing values.\n",
    "\n",
    "### Choose all correct statements:"
   ]
  },
  {
   "cell_type": "code",
   "execution_count": 29,
   "metadata": {},
   "outputs": [],
   "source": [
    "flights_df['DepTimenonNaN'] = flights_df['DepTime'].dropna()\n"
   ]
  },
  {
   "cell_type": "code",
   "execution_count": 30,
   "metadata": {},
   "outputs": [],
   "source": [
    "flights_df['DepTimenonNaN'] = flights_df['DepTimenonNaN'] // 100"
   ]
  },
  {
   "cell_type": "code",
   "execution_count": 46,
   "metadata": {},
   "outputs": [
    {
     "data": {
      "text/plain": [
       "<matplotlib.axes._subplots.AxesSubplot at 0x7f58bf96b128>"
      ]
     },
     "execution_count": 46,
     "metadata": {},
     "output_type": "execute_result"
    },
    {
     "data": {
      "image/png": "[encoded data removed]",
      "text/plain": [
       "<Figure size 1080x1080 with 1 Axes>"
      ]
     },
     "metadata": {
      "needs_background": "light"
     },
     "output_type": "display_data"
    }
   ],
   "source": [
    "axes = plt.subplots(figsize=(15,15))\n",
    "sns.countplot(x='DepTimenonNaN', data=flights_df)"
   ]
  },
  {
   "cell_type": "markdown",
   "metadata": {},
   "source": [
    "## Ответ: 3"
   ]
  },
  {
   "cell_type": "markdown",
   "metadata": {},
   "source": [
    "## 6. Show how the number of flights changes through time (on the daily/weekly/monthly basis) and interpret the findings.\n",
    "\n",
    "### Choose all correct statements:"
   ]
  },
  {
   "cell_type": "code",
   "execution_count": 50,
   "metadata": {},
   "outputs": [
    {
     "data": {
      "text/plain": [
       "<matplotlib.axes._subplots.AxesSubplot at 0x7f58bf608ef0>"
      ]
     },
     "execution_count": 50,
     "metadata": {},
     "output_type": "execute_result"
    },
    {
     "data": {
      "image/png": "[encoded data removed]",
      "text/plain": [
       "<Figure size 432x288 with 1 Axes>"
      ]
     },
     "metadata": {
      "needs_background": "light"
     },
     "output_type": "display_data"
    }
   ],
   "source": [
    "sns.countplot(x = 'DayOfWeek', data=flights_df)"
   ]
  },
  {
   "cell_type": "code",
   "execution_count": 51,
   "metadata": {},
   "outputs": [
    {
     "data": {
      "text/plain": [
       "<matplotlib.axes._subplots.AxesSubplot at 0x7f58bf704d68>"
      ]
     },
     "execution_count": 51,
     "metadata": {},
     "output_type": "execute_result"
    },
    {
     "data": {
      "image/png": "[encoded data removed]",
      "text/plain": [
       "<Figure size 432x288 with 1 Axes>"
      ]
     },
     "metadata": {
      "needs_background": "light"
     },
     "output_type": "display_data"
    }
   ],
   "source": [
    "sns.countplot(x = 'Month', data=flights_df)"
   ]
  },
  {
   "cell_type": "code",
   "execution_count": 52,
   "metadata": {},
   "outputs": [
    {
     "data": {
      "text/plain": [
       "<matplotlib.axes._subplots.AxesSubplot at 0x7f5851442d68>"
      ]
     },
     "execution_count": 52,
     "metadata": {},
     "output_type": "execute_result"
    },
    {
     "data": {
      "image/png": "[encoded data removed]",
      "text/plain": [
       "<Figure size 432x288 with 1 Axes>"
      ]
     },
     "metadata": {
      "needs_background": "light"
     },
     "output_type": "display_data"
    }
   ],
   "source": [
    "sns.countplot(x = 'DayofMonth', data=flights_df)"
   ]
  },
  {
   "cell_type": "markdown",
   "metadata": {},
   "source": [
    "## ответ: 1 и 3"
   ]
  },
  {
   "cell_type": "markdown",
   "metadata": {},
   "source": [
    "## 7. Examine the distribution of cancellation reasons with time. Make a bar plot of cancellation reasons aggregated by months.\n",
    "\n",
    "### Choose all correct statements:"
   ]
  },
  {
   "cell_type": "code",
   "execution_count": 63,
   "metadata": {},
   "outputs": [
    {
     "name": "stdout",
     "output_type": "stream",
     "text": [
      "<class 'pandas.core.frame.DataFrame'>\n",
      "RangeIndex: 7009728 entries, 0 to 7009727\n",
      "Data columns (total 21 columns):\n",
      "Year                 uint16\n",
      "Month                uint8\n",
      "DayofMonth           uint8\n",
      "DayOfWeek            uint8\n",
      "DepTime              float16\n",
      "UniqueCarrier        object\n",
      "FlightNum            uint16\n",
      "ArrDelay             float16\n",
      "DepDelay             float16\n",
      "Origin               object\n",
      "Dest                 object\n",
      "Distance             uint16\n",
      "Cancelled            int64\n",
      "CancellationCode     object\n",
      "CarrierDelay         float16\n",
      "WeatherDelay         float16\n",
      "NASDelay             float16\n",
      "SecurityDelay        float16\n",
      "LateAircraftDelay    float16\n",
      "DepTimenonNaN        float16\n",
      "Date                 datetime64[ns]\n",
      "dtypes: datetime64[ns](1), float16(9), int64(1), object(4), uint16(3), uint8(3)\n",
      "memory usage: 501.4+ MB\n"
     ]
    }
   ],
   "source": [
    "flights_df.info()"
   ]
  },
  {
   "cell_type": "code",
   "execution_count": 7,
   "metadata": {},
   "outputs": [],
   "source": [
    "\n",
    "flights_df['WeatherDelay'] =1\n",
    "flights_df['ArrDelay'] =1\n",
    "flights_df['NASDelay'] =1\n",
    "flights_df['SecurityDelay'] =1\n",
    "flights_df['LateAircraftDelay'] =1\n"
   ]
  },
  {
   "cell_type": "code",
   "execution_count": 20,
   "metadata": {},
   "outputs": [
    {
     "name": "stderr",
     "output_type": "stream",
     "text": [
      "/home/denis/anaconda3/lib/python3.7/site-packages/seaborn/categorical.py:3666: UserWarning: The `factorplot` function has been renamed to `catplot`. The original name will be removed in a future release. Please update your code. Note that the default `kind` in `factorplot` (`'point'`) has changed `'strip'` in `catplot`.\n",
      "  warnings.warn(msg)\n",
      "/home/denis/anaconda3/lib/python3.7/site-packages/seaborn/categorical.py:3672: UserWarning: The `size` paramter has been renamed to `height`; please update your code.\n",
      "  warnings.warn(msg, UserWarning)\n"
     ]
    },
    {
     "data": {
      "image/png": "[encoded data removed]",
      "text/plain": [
       "<Figure size 912.75x216 with 4 Axes>"
      ]
     },
     "metadata": {
      "needs_background": "light"
     },
     "output_type": "display_data"
    }
   ],
   "source": [
    "df_uniques = pd.melt(frame=flights_df, value_vars=['Month'], \n",
    "                     id_vars=['CancellationCode'])\n",
    "df_uniques = pd.DataFrame(df_uniques.groupby(['variable', 'value', \n",
    "                                              'CancellationCode'])['value'].count()) \\\n",
    "    .sort_index(level=[0, 1]) \\\n",
    "    .rename(columns={'value': 'count'}) \\\n",
    "    .reset_index()\n",
    "sns.factorplot(x='variable', y='count', hue='value', \n",
    "               col='CancellationCode', data=df_uniques, kind='bar', size=3);"
   ]
  },
  {
   "cell_type": "markdown",
   "metadata": {},
   "source": [
    "## ответ: 1 и 3"
   ]
  },
  {
   "cell_type": "markdown",
   "metadata": {},
   "source": [
    "## 8. Which month has the greatest number of cancellations due to Carrier? Ответ : Апрель"
   ]
  },
  {
   "cell_type": "markdown",
   "metadata": {},
   "source": [
    "## 9. Identify the carrier with the greatest number of cancellations due to carrier in the corresponding month from the previous question."
   ]
  },
  {
   "cell_type": "code",
   "execution_count": 23,
   "metadata": {},
   "outputs": [
    {
     "data": {
      "text/plain": [
       "MQ    374\n",
       "YV    241\n",
       "XE    213\n",
       "OO    180\n",
       "AA     91\n",
       "EV     74\n",
       "9E     64\n",
       "DL     62\n",
       "US     54\n",
       "NW     51\n",
       "UA     50\n",
       "FL     40\n",
       "B6     29\n",
       "WN     21\n",
       "OH     16\n",
       "CO      4\n",
       "Name: UniqueCarrier, dtype: int64"
      ]
     },
     "execution_count": 23,
     "metadata": {},
     "output_type": "execute_result"
    }
   ],
   "source": [
    "flights_df[(flights_df['Month'] == 4) & (flights_df['CancellationCode'] == \"C\")]['UniqueCarrier'].sort_values(ascending=False).value_counts()"
   ]
  },
  {
   "cell_type": "markdown",
   "metadata": {},
   "source": [
    "## ответ: АА"
   ]
  },
  {
   "cell_type": "markdown",
   "metadata": {},
   "source": [
    "## 10. Examine median arrival and departure delays (in time) by carrier. Which carrier has the lowest median delay time for both arrivals and departures? Leave only non-negative values of delay times ('ArrDelay', 'DepDelay'). Boxplots can be helpful in this exercise, as well as it might be a good idea to remove outliers in order to build nice graphs. You can exclude delay time values higher than a corresponding .95 percentile.\n",
    "\n"
   ]
  },
  {
   "cell_type": "code",
   "execution_count": 5,
   "metadata": {},
   "outputs": [
    {
     "data": {
      "image/png": "[encoded data removed]",
      "text/plain": [
       "<Figure size 1440x864 with 1 Axes>"
      ]
     },
     "metadata": {
      "needs_background": "light"
     },
     "output_type": "display_data"
    }
   ],
   "source": [
    "flights_df10=flights_df[(flights_df[\"ArrDelay\"] >0) & (flights_df[\"DepDelay\"] >0) \n",
    "& (flights_df[\"DepDelay\"] < flights_df[\"DepDelay\"].quantile(q=0.95)) \n",
    "& (flights_df[\"ArrDelay\"] < flights_df[\"ArrDelay\"].quantile(q=0.95))]\n",
    " \n",
    "axes = plt.subplots(figsize=(20,12))\n",
    "df1 = pd.melt(flights_df10, value_vars=[\"ArrDelay\", \"DepDelay\"], id_vars=\"UniqueCarrier\") #, id_vars=\"Month\" or \"UniqueCarrier\"\n",
    "sns.boxplot(x=\"variable\", y=\"value\", hue=\"UniqueCarrier\", data=df1) #hue=\"Month\", or \"UniqueCarrier\"\n",
    "plt.show()"
   ]
  },
  {
   "cell_type": "code",
   "execution_count": 6,
   "metadata": {},
   "outputs": [
    {
     "data": {
      "image/png": "[encoded data removed]",
      "text/plain": [
       "<Figure size 432x288 with 1 Axes>"
      ]
     },
     "metadata": {
      "needs_background": "light"
     },
     "output_type": "display_data"
    }
   ],
   "source": [
    "df1 = pd.melt(flights_df10, value_vars=[\"ArrDelay\", \"DepDelay\"]) #, id_vars=\"Month\" or \"UniqueCarrier\"\n",
    "sns.boxplot(x=\"variable\", y=\"value\", data=df1) #hue=\"Month\", or \"UniqueCarrier\"\n",
    "plt.show()"
   ]
  },
  {
   "cell_type": "code",
   "execution_count": 30,
   "metadata": {},
   "outputs": [
    {
     "data": {
      "text/plain": [
       "Series([], Name: DepDelay, dtype: float16)"
      ]
     },
     "execution_count": 30,
     "metadata": {},
     "output_type": "execute_result"
    }
   ],
   "source": [
    "flights_df10.groupby(\"UniqueCarrier\")[\"DepDelay\"].median().sort_values(ascending=False)"
   ]
  },
  {
   "cell_type": "code",
   "execution_count": null,
   "metadata": {},
   "outputs": [],
   "source": []
  },
  {
   "cell_type": "code",
   "execution_count": null,
   "metadata": {},
   "outputs": [],
   "source": []
  },
  {
   "cell_type": "markdown",
   "metadata": {},
   "source": [
    "## Ответ: AQ"
   ]
  }
 ],
 "metadata": {
  "kernelspec": {
   "display_name": "Python 3",
   "language": "python",
   "name": "python3"
  },
  "language_info": {
   "codemirror_mode": {
    "name": "ipython",
    "version": 3
   },
   "file_extension": ".py",
   "mimetype": "text/x-python",
   "name": "python",
   "nbconvert_exporter": "python",
   "pygments_lexer": "ipython3",
   "version": "3.7.0"
  }
 },
 "nbformat": 4,
 "nbformat_minor": 2
}
